{
 "cells": [
  {
   "cell_type": "markdown",
   "metadata": {},
   "source": [
    "# Lab 4 Rumana Khan and Peter Hughs LC"
   ]
  },
  {
   "cell_type": "markdown",
   "metadata": {},
   "source": [
    "Q1: Make an SQL query which checks if A is a superkey for relation T(A,B,C,D)"
   ]
  },
  {
   "cell_type": "code",
   "execution_count": 1,
   "metadata": {},
   "outputs": [],
   "source": [
    "%load_ext sql"
   ]
  },
  {
   "cell_type": "code",
   "execution_count": 2,
   "metadata": {},
   "outputs": [
    {
     "data": {
      "text/plain": [
       "'Connected: @lab4.db3'"
      ]
     },
     "execution_count": 2,
     "metadata": {},
     "output_type": "execute_result"
    }
   ],
   "source": [
    "%sql sqlite:///lab4.db3"
   ]
  },
  {
   "cell_type": "code",
   "execution_count": 3,
   "metadata": {},
   "outputs": [
    {
     "name": "stdout",
     "output_type": "stream",
     "text": [
      " * sqlite:///lab4.db3\n",
      "Done.\n",
      "Done.\n",
      "1 rows affected.\n",
      "1 rows affected.\n",
      "1 rows affected.\n",
      "1 rows affected.\n",
      "1 rows affected.\n"
     ]
    },
    {
     "data": {
      "text/plain": [
       "[]"
      ]
     },
     "execution_count": 3,
     "metadata": {},
     "output_type": "execute_result"
    }
   ],
   "source": [
    "%%sql drop table if exists Worker;\n",
    "create table Worker(\n",
    "       EmployeeID       varchar primary key,     -- number \n",
    "       name             varchar,                 -- name of Employee\n",
    "       department       varchar,                 -- name of the department\n",
    "       salary           int                      -- Salary of Employee           \n",
    ");\n",
    "insert into Worker values('123','Sarah', 'Sales', 65);\n",
    "insert into Worker values('124','Sally', 'Sales', 67);\n",
    "insert into Worker values('125','Bill', 'HR', 65);\n",
    "insert into Worker values('137','Sarah', 'HR', 75);\n",
    "insert into Worker values('138','Michael', 'Operations', 95);"
   ]
  },
  {
   "cell_type": "code",
   "execution_count": 4,
   "metadata": {},
   "outputs": [
    {
     "name": "stdout",
     "output_type": "stream",
     "text": [
      " * sqlite:///lab4.db3\n",
      "Done.\n",
      "Done.\n",
      "1 rows affected.\n",
      "1 rows affected.\n",
      "1 rows affected.\n",
      "1 rows affected.\n",
      "1 rows affected.\n"
     ]
    },
    {
     "data": {
      "text/plain": [
       "[]"
      ]
     },
     "execution_count": 4,
     "metadata": {},
     "output_type": "execute_result"
    }
   ],
   "source": [
    "%%sql drop table if exists Work;\n",
    "create table Work(\n",
    "       name             varchar,                 -- name of Employee\n",
    "       department       varchar,                 -- name of the department\n",
    "       salary           int,                     -- Salary of Employee           \n",
    "       title            varchar                  -- Title of Employee in the Department  \n",
    ");\n",
    "insert into Work values('Sarah', 'Sales', 65, 'Manager');\n",
    "insert into Work values('Sally', 'Sales', 67, 'Associate');\n",
    "insert into Work values('Bill', 'HR', 65, 'Worker');\n",
    "insert into Work values('Sarah', 'HR', 75, 'Assistant Manager');\n",
    "insert into Work values('Michael', 'Operations', 95, 'Manager');"
   ]
  },
  {
   "cell_type": "code",
   "execution_count": 5,
   "metadata": {},
   "outputs": [
    {
     "name": "stdout",
     "output_type": "stream",
     "text": [
      " * sqlite:///lab4.db3\n",
      "Done.\n"
     ]
    },
    {
     "data": {
      "text/html": [
       "<table>\n",
       "    <tr>\n",
       "        <th>COUNT(*)</th>\n",
       "    </tr>\n",
       "    <tr>\n",
       "        <td>0</td>\n",
       "    </tr>\n",
       "</table>"
      ],
      "text/plain": [
       "[(0,)]"
      ]
     },
     "execution_count": 5,
     "metadata": {},
     "output_type": "execute_result"
    }
   ],
   "source": [
    "%%sql \n",
    "\n",
    "SELECT COUNT(*)\n",
    "FROM Worker as WorkerA, Worker as WorkerB\n",
    "WHERE WorkerA.EmployeeID = WorkerB.EmployeeID and\n",
    "(WorkerA.name != WorkerB.name or WorkerA.department != WorkerB.department or WorkerA.salary != WorkerB.salary)"
   ]
  },
  {
   "cell_type": "code",
   "execution_count": 6,
   "metadata": {
    "scrolled": true
   },
   "outputs": [
    {
     "name": "stdout",
     "output_type": "stream",
     "text": [
      " * sqlite:///lab4.db3\n",
      "Done.\n"
     ]
    },
    {
     "data": {
      "text/html": [
       "<table>\n",
       "    <tr>\n",
       "        <th>COUNT(*)</th>\n",
       "    </tr>\n",
       "    <tr>\n",
       "        <td>2</td>\n",
       "    </tr>\n",
       "</table>"
      ],
      "text/plain": [
       "[(2,)]"
      ]
     },
     "execution_count": 6,
     "metadata": {},
     "output_type": "execute_result"
    }
   ],
   "source": [
    "%%sql \n",
    "\n",
    "SELECT COUNT(*)\n",
    "FROM Work as WorkA, Work as WorkB\n",
    "WHERE WorkA.name = WorkB.name and\n",
    "(WorkA.title != WorkB.title or WorkA.department != WorkB.department or WorkA.salary != WorkB.salary)"
   ]
  },
  {
   "cell_type": "markdown",
   "metadata": {},
   "source": [
    "For this first table, the Superkey is EmployeeID, and then the other table does not have a superkey. This can be shown also by the count that is generated. For the first table (Worker) since EmployeeID isn't repeated, the count stays at 0. However, for the second table (Work) when the name is repeated the count goes up. "
   ]
  },
  {
   "cell_type": "markdown",
   "metadata": {},
   "source": [
    "Q2: Make an SQL query where the combinations of two attributes in the relation are each keys"
   ]
  },
  {
   "cell_type": "code",
   "execution_count": 7,
   "metadata": {},
   "outputs": [
    {
     "name": "stdout",
     "output_type": "stream",
     "text": [
      " * sqlite:///lab4.db3\n",
      "Done.\n",
      "Done.\n",
      "1 rows affected.\n",
      "1 rows affected.\n",
      "1 rows affected.\n",
      "1 rows affected.\n",
      "1 rows affected.\n"
     ]
    },
    {
     "data": {
      "text/plain": [
       "[]"
      ]
     },
     "execution_count": 7,
     "metadata": {},
     "output_type": "execute_result"
    }
   ],
   "source": [
    "%%sql drop table if exists Worker1;\n",
    "create table Worker1(\n",
    "       name             varchar,                 -- name of Employee*\n",
    "       department       varchar,                 -- name of the department\n",
    "       salary           int,                     -- Salary of Employee           \n",
    "       title            varchar                  -- Title of Employee in the Department* \n",
    ");\n",
    "insert into Worker1 values('Sarah', 'Sales', 65, 'Manager');\n",
    "insert into Worker1 values('Sally', 'Sales', 67, 'Associate');\n",
    "insert into Worker1 values('Bill', 'HR', 65, 'Worker');\n",
    "insert into Worker1 values('Sarah', 'HR', 75, 'Assistant Manager');\n",
    "insert into Worker1 values('Michael', 'Operations', 95, 'Manager');"
   ]
  },
  {
   "cell_type": "code",
   "execution_count": 8,
   "metadata": {},
   "outputs": [
    {
     "name": "stdout",
     "output_type": "stream",
     "text": [
      " * sqlite:///lab4.db3\n",
      "Done.\n",
      "Done.\n",
      "1 rows affected.\n",
      "1 rows affected.\n",
      "1 rows affected.\n",
      "1 rows affected.\n",
      "1 rows affected.\n"
     ]
    },
    {
     "data": {
      "text/plain": [
       "[]"
      ]
     },
     "execution_count": 8,
     "metadata": {},
     "output_type": "execute_result"
    }
   ],
   "source": [
    "%%sql drop table if exists Worker2;\n",
    "create table Worker2(\n",
    "       name             varchar,                 -- name of Employee\n",
    "       department       varchar,                 -- name of the department\n",
    "       salary           int,                     -- Salary of Employee           \n",
    "       title            varchar                  -- Title of Employee in the Department  \n",
    ");\n",
    "insert into Worker2 values('Sarah', 'Sales', 65, 'Manager');\n",
    "insert into Worker2 values('Sally', 'Sales', 67, 'Associate');\n",
    "insert into Worker2 values('Bill', 'HR', 65, 'Worker');\n",
    "insert into Worker2 values('Sarah', 'HR', 75, 'Manager');\n",
    "insert into Worker2 values('Michael', 'Operations', 95, 'Manager');"
   ]
  },
  {
   "cell_type": "code",
   "execution_count": 9,
   "metadata": {},
   "outputs": [
    {
     "name": "stdout",
     "output_type": "stream",
     "text": [
      " * sqlite:///lab4.db3\n",
      "Done.\n",
      "Done.\n",
      "1 rows affected.\n",
      "1 rows affected.\n",
      "1 rows affected.\n",
      "1 rows affected.\n",
      "1 rows affected.\n"
     ]
    },
    {
     "data": {
      "text/plain": [
       "[]"
      ]
     },
     "execution_count": 9,
     "metadata": {},
     "output_type": "execute_result"
    }
   ],
   "source": [
    "%%sql drop table if exists Works1;\n",
    "create table Works1(\n",
    "       name             varchar,                 -- name of Employee*\n",
    "       department       varchar,                 -- name of the department*\n",
    "       salary           int,                     -- Salary of Employee           \n",
    "       title            varchar                  -- Title of Employee in the Department  \n",
    ");\n",
    "insert into Works1 values('Sarah', 'Sales', 65, 'Manager');\n",
    "insert into Works1 values('Sally', 'Sales', 67, 'Associate');\n",
    "insert into Works1 values('Bill', 'HR', 65, 'Worker');\n",
    "insert into Works1 values('Sarah', 'HR', 75, 'Manager');\n",
    "insert into Works1 values('Michael', 'Operations', 95, 'Manager');"
   ]
  },
  {
   "cell_type": "code",
   "execution_count": 10,
   "metadata": {},
   "outputs": [
    {
     "name": "stdout",
     "output_type": "stream",
     "text": [
      " * sqlite:///lab4.db3\n",
      "Done.\n",
      "Done.\n",
      "1 rows affected.\n",
      "1 rows affected.\n",
      "1 rows affected.\n",
      "1 rows affected.\n",
      "1 rows affected.\n"
     ]
    },
    {
     "data": {
      "text/plain": [
       "[]"
      ]
     },
     "execution_count": 10,
     "metadata": {},
     "output_type": "execute_result"
    }
   ],
   "source": [
    "%%sql drop table if exists Works2;\n",
    "create table Works2(\n",
    "       name             varchar,                 -- name of Employee\n",
    "       department       varchar,                 -- name of the department\n",
    "       salary           int,                     -- Salary of Employee           \n",
    "       title            varchar                  -- Title of Employee in the Department\n",
    ");\n",
    "insert into Works2 values('Sarah', 'Sales', 65, 'Manager');\n",
    "insert into Works2 values('Sally', 'Sales', 67, 'Associate');\n",
    "insert into Works2 values('Bill', 'HR', 65, 'Worker');\n",
    "insert into Works2 values('Sarah', 'Sales', 75, 'Assistant Manager');\n",
    "insert into Works2 values('Michael', 'Operations', 95, 'Manager');"
   ]
  },
  {
   "cell_type": "code",
   "execution_count": 11,
   "metadata": {},
   "outputs": [
    {
     "name": "stdout",
     "output_type": "stream",
     "text": [
      " * sqlite:///lab4.db3\n",
      "Done.\n"
     ]
    },
    {
     "data": {
      "text/html": [
       "<table>\n",
       "    <tr>\n",
       "        <th>COUNT(*)</th>\n",
       "    </tr>\n",
       "    <tr>\n",
       "        <td>0</td>\n",
       "    </tr>\n",
       "</table>"
      ],
      "text/plain": [
       "[(0,)]"
      ]
     },
     "execution_count": 11,
     "metadata": {},
     "output_type": "execute_result"
    }
   ],
   "source": [
    "%%sql \n",
    "\n",
    "SELECT COUNT(*)\n",
    "FROM Worker1 as Worker1A, Worker1 as Worker1B\n",
    "WHERE Worker1A.name = Worker1B.name and Worker1A.title = Worker1B.title and \n",
    "(Worker1A.department != Worker1B.department or Worker1A.salary != Worker1B.salary)"
   ]
  },
  {
   "cell_type": "code",
   "execution_count": 12,
   "metadata": {},
   "outputs": [
    {
     "name": "stdout",
     "output_type": "stream",
     "text": [
      " * sqlite:///lab4.db3\n",
      "Done.\n"
     ]
    },
    {
     "data": {
      "text/html": [
       "<table>\n",
       "    <tr>\n",
       "        <th>COUNT(*)</th>\n",
       "    </tr>\n",
       "    <tr>\n",
       "        <td>2</td>\n",
       "    </tr>\n",
       "</table>"
      ],
      "text/plain": [
       "[(2,)]"
      ]
     },
     "execution_count": 12,
     "metadata": {},
     "output_type": "execute_result"
    }
   ],
   "source": [
    "%%sql \n",
    "\n",
    "SELECT COUNT(*)\n",
    "FROM Worker2 as Worker2A, Worker2 as Worker2B\n",
    "WHERE Worker2A.name = Worker2B.name and Worker2A.title = Worker2B.title and \n",
    "(Worker2A.department != Worker2B.department or Worker2A.salary != Worker2B.salary)"
   ]
  },
  {
   "cell_type": "code",
   "execution_count": 13,
   "metadata": {},
   "outputs": [
    {
     "name": "stdout",
     "output_type": "stream",
     "text": [
      " * sqlite:///lab4.db3\n",
      "Done.\n"
     ]
    },
    {
     "data": {
      "text/html": [
       "<table>\n",
       "    <tr>\n",
       "        <th>COUNT(*)</th>\n",
       "    </tr>\n",
       "    <tr>\n",
       "        <td>0</td>\n",
       "    </tr>\n",
       "</table>"
      ],
      "text/plain": [
       "[(0,)]"
      ]
     },
     "execution_count": 13,
     "metadata": {},
     "output_type": "execute_result"
    }
   ],
   "source": [
    "%%sql \n",
    "\n",
    "SELECT COUNT(*)\n",
    "FROM Works1 as Works1A, Works1 as Works1B\n",
    "WHERE Works1A.name = Works1B.name and  Works1A.department = Works1B.department and\n",
    "(Works1A.title != Works1B.title or Works1A.salary != Works1B.salary)"
   ]
  },
  {
   "cell_type": "code",
   "execution_count": 14,
   "metadata": {},
   "outputs": [
    {
     "name": "stdout",
     "output_type": "stream",
     "text": [
      " * sqlite:///lab4.db3\n",
      "Done.\n"
     ]
    },
    {
     "data": {
      "text/html": [
       "<table>\n",
       "    <tr>\n",
       "        <th>COUNT(*)</th>\n",
       "    </tr>\n",
       "    <tr>\n",
       "        <td>2</td>\n",
       "    </tr>\n",
       "</table>"
      ],
      "text/plain": [
       "[(2,)]"
      ]
     },
     "execution_count": 14,
     "metadata": {},
     "output_type": "execute_result"
    }
   ],
   "source": [
    "%%sql \n",
    "\n",
    "SELECT COUNT(*)\n",
    "FROM Works2 as Works2A, Works2 as Works2B\n",
    "WHERE Works2A.name = Works2B.name and  Works2A.department = Works2B.department and\n",
    "(Works2A.title != Works2B.title or Works2A.salary != Works2B.salary)"
   ]
  },
  {
   "cell_type": "markdown",
   "metadata": {},
   "source": [
    "For question 2, we have four tables - (Worker1, Worker2, Works1, Works2). Both Worker1 and Works1 result in a 0 for the count, so these are true. For Worker1, we used name and title as a key. For Works1, we used name and department as a key. "
   ]
  },
  {
   "cell_type": "markdown",
   "metadata": {},
   "source": [
    "Q3: Make an SQL where a TGD between A and B with some shared attributes (use Sailors, Reserves, and Boats)"
   ]
  },
  {
   "cell_type": "code",
   "execution_count": 15,
   "metadata": {},
   "outputs": [
    {
     "name": "stdout",
     "output_type": "stream",
     "text": [
      " * sqlite:///lab4.db3\n",
      "Done.\n",
      "Done.\n",
      "1 rows affected.\n",
      "1 rows affected.\n",
      "1 rows affected.\n",
      "1 rows affected.\n",
      "1 rows affected.\n"
     ]
    },
    {
     "data": {
      "text/plain": [
       "[]"
      ]
     },
     "execution_count": 15,
     "metadata": {},
     "output_type": "execute_result"
    }
   ],
   "source": [
    "%%sql drop table if exists ReservesT;\n",
    "create table ReservesT(\n",
    "       sid            int,                        -- sailor number \n",
    "       bid            int,                        -- boat number   \n",
    "        sname         varchar,                    -- sailor name\n",
    "        bname         varchar,                    -- boat name\n",
    "       day        varchar primary key            -- day of reservation\n",
    ");\n",
    "\n",
    "insert into ReservesT values(22, 101, 'dustin', 'interlake', '10/10/96');\n",
    "insert into ReservesT values(58, 103, 'rusty', 'clipper', '11/12/96');\n",
    "insert into ReservesT values(66, 124, 'john', 'stella', '12/24/98');\n",
    "insert into ReservesT values(69, 124, 'jared','stella', '12/28/98');\n",
    "insert into ReservesT values(88, 103, 'riley', 'clipper', '11/12/99');"
   ]
  },
  {
   "cell_type": "code",
   "execution_count": 16,
   "metadata": {},
   "outputs": [
    {
     "name": "stdout",
     "output_type": "stream",
     "text": [
      " * sqlite:///lab4.db3\n",
      "Done.\n",
      "Done.\n",
      "1 rows affected.\n",
      "1 rows affected.\n",
      "1 rows affected.\n",
      "1 rows affected.\n",
      "1 rows affected.\n"
     ]
    },
    {
     "data": {
      "text/plain": [
       "[]"
      ]
     },
     "execution_count": 16,
     "metadata": {},
     "output_type": "execute_result"
    }
   ],
   "source": [
    "%%sql drop table if exists SailorsT;\n",
    "create table SailorsT(\n",
    "       sid        int primary key,  -- sailor ID\n",
    "       sname        varchar,        -- name of Sailor\n",
    "       rating       int,            --number of rating\n",
    "       age          double          --age of Sailor\n",
    ");\n",
    "\n",
    "insert into SailorsT values(22, 'dustin', 7, 45.0);\n",
    "insert into SailorsT values(58, 'rusty', 10, 35.0);\n",
    "insert into SailorsT values(66, 'john', 8, 52.0);\n",
    "insert into SailorsT values(69, 'jared', 9, 356.0);\n",
    "insert into SailorsT values(88, 'riley', 8, 55.5);"
   ]
  },
  {
   "cell_type": "code",
   "execution_count": 26,
   "metadata": {},
   "outputs": [
    {
     "name": "stdout",
     "output_type": "stream",
     "text": [
      " * sqlite:///lab4.db3\n",
      "Done.\n"
     ]
    },
    {
     "data": {
      "text/html": [
       "<table>\n",
       "    <tr>\n",
       "        <th>COUNT(*)</th>\n",
       "    </tr>\n",
       "    <tr>\n",
       "        <td>5</td>\n",
       "    </tr>\n",
       "</table>"
      ],
      "text/plain": [
       "[(5,)]"
      ]
     },
     "execution_count": 26,
     "metadata": {},
     "output_type": "execute_result"
    }
   ],
   "source": [
    "%%sql \n",
    "\n",
    "SELECT COUNT(*)\n",
    "FROM ReservesT \n",
    "NATURAL JOIN SailorsT\n",
    "where ReservesT.sid = SailorsT.sid"
   ]
  },
  {
   "cell_type": "code",
   "execution_count": 18,
   "metadata": {},
   "outputs": [
    {
     "name": "stdout",
     "output_type": "stream",
     "text": [
      " * sqlite:///lab4.db3\n",
      "Done.\n",
      "Done.\n",
      "1 rows affected.\n",
      "1 rows affected.\n",
      "1 rows affected.\n",
      "1 rows affected.\n",
      "1 rows affected.\n"
     ]
    },
    {
     "data": {
      "text/plain": [
       "[]"
      ]
     },
     "execution_count": 18,
     "metadata": {},
     "output_type": "execute_result"
    }
   ],
   "source": [
    "%%sql drop table if exists ReservesF;\n",
    "create table ReservesF(\n",
    "       sid            int,                        -- sailor number \n",
    "       bid            int,                        -- boat number   \n",
    "        sname         varchar,                    -- sailor name\n",
    "        bname         varchar,                    -- boat name\n",
    "       day        varchar primary key            -- day of reservation\n",
    ");\n",
    "\n",
    "insert into ReservesF values(22, 101, 'dustin', 'interlake', '10/10/96');\n",
    "insert into ReservesF values(58, 103, 'rusty', 'clipper', '11/12/96');\n",
    "insert into ReservesF values(66, 124, 'john', 'stella', '12/24/98');\n",
    "insert into ReservesF values(69, 124, 'jared','stella', '12/28/98');\n",
    "insert into ReservesF values(88, 103, 'riley', 'clipper', '11/12/99');"
   ]
  },
  {
   "cell_type": "code",
   "execution_count": 19,
   "metadata": {},
   "outputs": [
    {
     "name": "stdout",
     "output_type": "stream",
     "text": [
      " * sqlite:///lab4.db3\n",
      "Done.\n",
      "Done.\n",
      "1 rows affected.\n",
      "1 rows affected.\n",
      "1 rows affected.\n",
      "1 rows affected.\n",
      "1 rows affected.\n"
     ]
    },
    {
     "data": {
      "text/plain": [
       "[]"
      ]
     },
     "execution_count": 19,
     "metadata": {},
     "output_type": "execute_result"
    }
   ],
   "source": [
    "%%sql drop table if exists SailorsF;\n",
    "create table SailorsF(\n",
    "       sid        int primary key,  -- sailor ID\n",
    "       sname        varchar,        -- name of Sailor\n",
    "       rating       int,            --number of rating\n",
    "       age          double          --age of Sailor\n",
    ");\n",
    "\n",
    "insert into SailorsF values(22, 'dustin', 7, 45.0);\n",
    "insert into SailorsF values(31, 'lubber', 8, 55.5);\n",
    "insert into SailorsF values(58, 'rusty', 10, 35.0);\n",
    "insert into SailorsF values(88, 'riley', 8, 55.5);\n",
    "insert into SailorsF values(74, 'mark', 10, 35.0);"
   ]
  },
  {
   "cell_type": "code",
   "execution_count": 25,
   "metadata": {},
   "outputs": [
    {
     "name": "stdout",
     "output_type": "stream",
     "text": [
      " * sqlite:///lab4.db3\n",
      "Done.\n"
     ]
    },
    {
     "data": {
      "text/html": [
       "<table>\n",
       "    <tr>\n",
       "        <th>COUNT(*)</th>\n",
       "    </tr>\n",
       "    <tr>\n",
       "        <td>3</td>\n",
       "    </tr>\n",
       "</table>"
      ],
      "text/plain": [
       "[(3,)]"
      ]
     },
     "execution_count": 25,
     "metadata": {},
     "output_type": "execute_result"
    }
   ],
   "source": [
    "%%sql \n",
    "\n",
    "SELECT COUNT(*)\n",
    "FROM ReservesF as A\n",
    "NATURAL JOIN SailorsF as B\n",
    "where A.sid = B.sid"
   ]
  },
  {
   "cell_type": "markdown",
   "metadata": {},
   "source": [
    "For question 3, we have ReservesT and SailorsT which are true, while ReservesF and SailorsF are false. We joined the reserves and sailors tables together and then counted the amount of times that the SID was the same. For the first two tables, the count was 5 and there are only 5 tuples, this means that each A.sid has a B.sid. However, for the last two tables, the count is only at 3 even though there are 5 tuples, which means that each A.sid did find a B.sid to match, which is why this is a false instance of a TGD."
   ]
  },
  {
   "cell_type": "markdown",
   "metadata": {},
   "source": [
    "Q4: Make an SQL which checks for a MVD "
   ]
  },
  {
   "cell_type": "code",
   "execution_count": 29,
   "metadata": {},
   "outputs": [
    {
     "name": "stdout",
     "output_type": "stream",
     "text": [
      " * sqlite:///lab4.db3\n",
      "Done.\n",
      "Done.\n",
      "1 rows affected.\n",
      "1 rows affected.\n",
      "1 rows affected.\n",
      "1 rows affected.\n",
      "1 rows affected.\n"
     ]
    },
    {
     "data": {
      "text/plain": [
       "[]"
      ]
     },
     "execution_count": 29,
     "metadata": {},
     "output_type": "execute_result"
    }
   ],
   "source": [
    "%%sql drop table if exists CarT;\n",
    "create table CarT(\n",
    "       company           varchar,                 -- name of the company that makes the car \n",
    "       model             varchar,                 -- name of the model of the car\n",
    "       year              int,                     -- year car was made\n",
    "       color             varchar,                 -- color of car           \n",
    "       price             int                      -- price of car\n",
    ");\n",
    "insert into CarT values ('Ford', 'Crown Vic', 2011, 'red', 88);\n",
    "insert into CarT values ('Ford', 'Crown Vic', 2011, 'black', 83);\n",
    "insert into CarT values ('Ford', 'Crown Vic', 2011, 'blue', 73);\n",
    "insert into CarT values ('Nissan', 'GTR', 2020, 'black', 83);\n",
    "insert into CarT values ('Nissan', 'GTR', 2020, 'red', 88);"
   ]
  },
  {
   "cell_type": "code",
   "execution_count": 32,
   "metadata": {},
   "outputs": [
    {
     "name": "stdout",
     "output_type": "stream",
     "text": [
      " * sqlite:///lab4.db3\n",
      "Done.\n"
     ]
    },
    {
     "data": {
      "text/html": [
       "<table>\n",
       "    <tr>\n",
       "        <th>COUNT(*)</th>\n",
       "    </tr>\n",
       "    <tr>\n",
       "        <td>0</td>\n",
       "    </tr>\n",
       "</table>"
      ],
      "text/plain": [
       "[(0,)]"
      ]
     },
     "execution_count": 32,
     "metadata": {},
     "output_type": "execute_result"
    }
   ],
   "source": [
    "%%sql \n",
    "\n",
    "SELECT COUNT(*)\n",
    "FROM CarT as CarA, CarT as CarB, CarT as CarC\n",
    "WHERE CarA.company = CarB.company and CarB.company = CarC.company and \n",
    "(CarC.model != CarA.model) and (CarC.year != CarB.year)"
   ]
  },
  {
   "cell_type": "code",
   "execution_count": 35,
   "metadata": {},
   "outputs": [
    {
     "name": "stdout",
     "output_type": "stream",
     "text": [
      " * sqlite:///lab4.db3\n",
      "Done.\n",
      "Done.\n",
      "1 rows affected.\n",
      "1 rows affected.\n",
      "1 rows affected.\n",
      "1 rows affected.\n",
      "1 rows affected.\n"
     ]
    },
    {
     "data": {
      "text/plain": [
       "[]"
      ]
     },
     "execution_count": 35,
     "metadata": {},
     "output_type": "execute_result"
    }
   ],
   "source": [
    "%%sql drop table if exists Carf;\n",
    "create table Carf(\n",
    "       company           varchar,                 -- name of the company that makes the car \n",
    "       model             varchar,                 -- name of the model of the car\n",
    "       year              int,                     -- year car was made\n",
    "       color             varchar,                 -- color of car           \n",
    "       price             int                      -- price of car\n",
    ");\n",
    "insert into Carf values ('Ford', 'Crown Vic', 2011, 'red', 88);\n",
    "insert into Carf values ('Ford', 'Chevy', 2012, 'red', 88);\n",
    "insert into Carf values ('Honda', 'Civic', 2013, 'blue', 78);\n",
    "insert into Carf values ('Honda', 'Accord', 2019, 'blue', 78);\n",
    "insert into Carf values ('Honda', 'Civic', 2012, 'blue', 78);"
   ]
  },
  {
   "cell_type": "code",
   "execution_count": 36,
   "metadata": {},
   "outputs": [
    {
     "name": "stdout",
     "output_type": "stream",
     "text": [
      " * sqlite:///lab4.db3\n",
      "Done.\n"
     ]
    },
    {
     "data": {
      "text/html": [
       "<table>\n",
       "    <tr>\n",
       "        <th>COUNT(*)</th>\n",
       "    </tr>\n",
       "    <tr>\n",
       "        <td>10</td>\n",
       "    </tr>\n",
       "</table>"
      ],
      "text/plain": [
       "[(10,)]"
      ]
     },
     "execution_count": 36,
     "metadata": {},
     "output_type": "execute_result"
    }
   ],
   "source": [
    "%%sql \n",
    "\n",
    "SELECT COUNT(*)\n",
    "FROM Carf as CarA, Carf as CarB, Carf as CarC\n",
    "WHERE CarA.company = CarB.company and CarB.company = CarC.company and \n",
    "(CarC.model != CarA.model) and (CarC.year != CarB.year)"
   ]
  },
  {
   "cell_type": "markdown",
   "metadata": {},
   "source": [
    "For this last question, we had some trouble. The query we made is counting each time the tuple isn't meeting the criteria listed for this question. Therefore, the first table is true and the last table is false. The first table CarT has a count of 0, where the 3rd tuple when equal to the 1st and 2nd tuple doesn't equal the other attributes in the tuple. Meanwhile for table carf the tuples might start off with the same company attribute value, but they have completely different values for the other attributes."
   ]
  }
 ],
 "metadata": {
  "kernelspec": {
   "display_name": "Python 3",
   "language": "python",
   "name": "python3"
  },
  "language_info": {
   "codemirror_mode": {
    "name": "ipython",
    "version": 3
   },
   "file_extension": ".py",
   "mimetype": "text/x-python",
   "name": "python",
   "nbconvert_exporter": "python",
   "pygments_lexer": "ipython3",
   "version": "3.8.3"
  }
 },
 "nbformat": 4,
 "nbformat_minor": 4
}
